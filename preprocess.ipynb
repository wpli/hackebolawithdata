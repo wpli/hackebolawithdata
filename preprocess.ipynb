{
 "metadata": {
  "name": "",
  "signature": "sha256:8d7f91df11202ed051a5cbae9a03ed45f24914739f8fc52d2fe3e29876a27fa8"
 },
 "nbformat": 3,
 "nbformat_minor": 0,
 "worksheets": [
  {
   "cells": [
    {
     "cell_type": "code",
     "collapsed": false,
     "input": [
      "import csv\n",
      "\n",
      "with open( '2.csv' ) as f:\n",
      "    x = csv.reader( f, delimiter='\\t' )\n",
      "    #count = 0\n",
      "    \n",
      "    data_list = []\n",
      "    for line in x:\n",
      "        data_list.append( line )\n",
      "        #print line\n",
      "        #count += 1\n",
      "        #if count == 10:\n",
      "        #   break\n",
      "        \n",
      "    header = data_list[0]\n",
      "    actual_data = data_list[1:]\n",
      "    hd = dict( [ (i, idx) for (idx, i) in enumerate( header ) ] )\n",
      "    \n",
      "    sdr_idx = hd['sdr_id']\n",
      "    date_idx = hd['date']\n",
      "    category_idx = hd['category']\n",
      "    value_idx = hd['value']\n",
      "    \n",
      "    interesting_data = [ ( i[date_idx], i[category_idx], i[value_idx], i[sdr_idx] ) for i in actual_data ]\n",
      "    \n",
      "print interesting_data[:10]\n",
      "print [ ]"
     ],
     "language": "python",
     "metadata": {},
     "outputs": [
      {
       "output_type": "stream",
       "stream": "stdout",
       "text": [
        "[('41722', 'Cases', '86', '8'), ('41722', 'Deaths', '59', '8'), ('41723', 'Cases', '86', '38'), ('41723', 'Deaths', '60', '38'), ('41724', 'Cases', '86', '38'), ('41724', 'Deaths', '62', '38'), ('41725', 'Cases', '103', '38'), ('41725', 'Deaths', '66', '38'), ('41726', 'Deaths', '70', '4'), ('41726', 'Suspected cases', '5', '2')]\n",
        "21971\n"
       ]
      }
     ],
     "prompt_number": 20
    },
    {
     "cell_type": "code",
     "collapsed": false,
     "input": [],
     "language": "python",
     "metadata": {},
     "outputs": []
    }
   ],
   "metadata": {}
  }
 ]
}